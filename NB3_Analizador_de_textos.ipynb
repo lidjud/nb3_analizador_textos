{
  "nbformat": 4,
  "nbformat_minor": 0,
  "metadata": {
    "colab": {
      "name": "NB3. Analizador de textos.ipynb",
      "provenance": [],
      "authorship_tag": "ABX9TyO5x/QHh9Y9k6cYnRVZd6A+",
      "include_colab_link": true
    },
    "kernelspec": {
      "name": "python3",
      "display_name": "Python 3"
    },
    "language_info": {
      "name": "python"
    }
  },
  "cells": [
    {
      "cell_type": "markdown",
      "metadata": {
        "id": "view-in-github",
        "colab_type": "text"
      },
      "source": [
        "<a href=\"https://colab.research.google.com/github/lidjud/nb3_analizador_textos/blob/main/NB3_Analizador_de_textos.ipynb\" target=\"_parent\"><img src=\"https://colab.research.google.com/assets/colab-badge.svg\" alt=\"Open In Colab\"/></a>"
      ]
    },
    {
      "cell_type": "markdown",
      "source": [
        "# **Método index()**"
      ],
      "metadata": {
        "id": "2WKdmN7WWe4G"
      }
    },
    {
      "cell_type": "code",
      "execution_count": null,
      "metadata": {
        "id": "R_3yjBLITnaB"
      },
      "outputs": [],
      "source": [
        "# Conocer qué caracter hay en un índice\n",
        "mi_texto = \"Ésta es una prueba\"\n",
        "resultado = mi_texto[0]\n",
        "print(resultado)"
      ]
    },
    {
      "cell_type": "code",
      "source": [
        "# Hagamos una prueba con los números negativos\n",
        "mi_texto = \"Ésta es una prueba\"\n",
        "resultado = mi_texto[-4]\n",
        "print(resultado)"
      ],
      "metadata": {
        "id": "Sn8TYhF2XCG_"
      },
      "execution_count": null,
      "outputs": []
    },
    {
      "cell_type": "code",
      "source": [
        "# Conocer índice de un caracter\n",
        "mi_texto = \"Ésta es una prueba\"\n",
        "resultado = mi_texto.index('n')\n",
        "# Prueba con diferentes valores: 'x', 'prueba', 'P'\n",
        "print(resultado)"
      ],
      "metadata": {
        "id": "kyu2XDy9XlqK"
      },
      "execution_count": null,
      "outputs": []
    },
    {
      "cell_type": "code",
      "source": [
        "# ¿Qué sucede con las letras que se repiten varias veces en mi_texto\n",
        "mi_texto = \"Ésta es una prueba\"\n",
        "#resultado = mi_texto.index('a')\n",
        "print(resultado)"
      ],
      "metadata": {
        "id": "Qw0GrYaUhBb9"
      },
      "execution_count": null,
      "outputs": []
    },
    {
      "cell_type": "code",
      "source": [
        "# Si agregamos el parámetro de inicio al método index...\n",
        "resultado = mi_texto.index('a', 5)\n",
        "print(resultado)"
      ],
      "metadata": {
        "id": "zVHZ3l0_2fqr"
      },
      "execution_count": null,
      "outputs": []
    },
    {
      "cell_type": "code",
      "source": [
        "# Si agregamos el parámetro de fin al método index...\n",
        "resultado = mi_texto.index('a', 5, 10)\n",
        "print(resultado)"
      ],
      "metadata": {
        "id": "yDKIyNeL2nP8"
      },
      "execution_count": null,
      "outputs": []
    },
    {
      "cell_type": "code",
      "source": [
        "# Método re-index\n",
        "mi_texto = \"Ésta es una prueba\"\n",
        "resultado = mi_texto.rindex('a')\n",
        "print(resultado)"
      ],
      "metadata": {
        "id": "j7G8jma-ZqPd"
      },
      "execution_count": null,
      "outputs": []
    },
    {
      "cell_type": "markdown",
      "source": [
        "# Slicing 🍕"
      ],
      "metadata": {
        "id": "MnzZ7sZa1N_m"
      }
    },
    {
      "cell_type": "code",
      "source": [
        "# En este ejemplo, extraemos un caracter de la cadena de texto\n",
        "texto = \"ABCDEFGHIJKLM\"\n",
        "fragmento = texto[2]\n",
        "print(fragmento)"
      ],
      "metadata": {
        "id": "0F3RN2m0hAP1"
      },
      "execution_count": null,
      "outputs": []
    },
    {
      "cell_type": "code",
      "source": [
        "# Podemos extraer los caracteres que se encuentran entre el índice de inicio y el final\n",
        "texto = \"ABCDEFGHIJKLM\"\n",
        "fragmento = texto[2:5] \n",
        "print(fragmento)\n",
        "\n",
        "# Si en el slicing defines el inicio+:, sin especificar el índice final, ¿qué sucede?\n",
        "texto = \"ABCDEFGHIJKLM\"\n",
        "fragmento = texto[2:] \n",
        "print(fragmento)"
      ],
      "metadata": {
        "id": "L8VKjyr11Ary"
      },
      "execution_count": null,
      "outputs": []
    },
    {
      "cell_type": "code",
      "source": [
        "# Si en el slicing defines :+final, sin especificar el índice inicial, ¿qué sucede?\n",
        "texto = \"ABCDEFGHIJKLM\"\n",
        "fragmento = texto[:5] \n",
        "print(fragmento)"
      ],
      "metadata": {
        "id": "ir3_8NHf1uus"
      },
      "execution_count": null,
      "outputs": []
    },
    {
      "cell_type": "code",
      "source": [
        "#Ahora vamos a incluir un tercer factor para extraer un caracter cada tanto (tercer factor)\n",
        "texto = \"ABCDEFGHIJKLM\"\n",
        "fragmento = texto[2:10:2] \n",
        "print(fragmento)\n",
        "fragmento = texto[::2] \n",
        "print(fragmento)"
      ],
      "metadata": {
        "id": "4EYMBC0e3PFO"
      },
      "execution_count": null,
      "outputs": []
    },
    {
      "cell_type": "code",
      "source": [
        "texto = \"ABCDEFGHIJKLM\"\n",
        "fragmento = texto[::-1] \n",
        "print(fragmento)"
      ],
      "metadata": {
        "id": "BcEyXTSd4L5C"
      },
      "execution_count": null,
      "outputs": []
    },
    {
      "cell_type": "markdown",
      "source": [
        "# ➕ métodos"
      ],
      "metadata": {
        "id": "pqP99xpL-cxp"
      }
    },
    {
      "cell_type": "code",
      "source": [
        "# Creo una cadena\n",
        "texto = \"Aprendiendo a programar\"\n",
        "resultado = texto\n",
        "print(resultado)"
      ],
      "metadata": {
        "id": "v4rbt5XT5Aal"
      },
      "execution_count": null,
      "outputs": []
    },
    {
      "cell_type": "markdown",
      "source": [
        "## upper()"
      ],
      "metadata": {
        "id": "vvByt2C_Bwcn"
      }
    },
    {
      "cell_type": "code",
      "source": [
        "# upper() transforma los caracteres en mayúsculas\n",
        "texto = \"Aprendiendo a programar\"\n",
        "resultado = texto.upper()\n",
        "print(resultado)"
      ],
      "metadata": {
        "id": "hTJKboQM-pDS"
      },
      "execution_count": null,
      "outputs": []
    },
    {
      "cell_type": "markdown",
      "source": [
        "## lower()"
      ],
      "metadata": {
        "id": "V1Z_Ls00B1sn"
      }
    },
    {
      "cell_type": "code",
      "source": [
        "# lower() transforma los caracteres en minúsculas\n",
        "texto = \"Aprendiendo a programar\"\n",
        "resultado = texto.lower()\n",
        "print(resultado)"
      ],
      "metadata": {
        "id": "mJ1u6dek_Re0"
      },
      "execution_count": null,
      "outputs": []
    },
    {
      "cell_type": "markdown",
      "source": [
        "## split()"
      ],
      "metadata": {
        "id": "euEmwDSZB49y"
      }
    },
    {
      "cell_type": "code",
      "source": [
        "# split separa cada uno de los elementos y los guarda en una lista\n",
        "# Las listas se guardan dentro de [] \n",
        "texto = \"Aprendiendo a programar\"\n",
        "resultado = texto.split()\n",
        "print(resultado)"
      ],
      "metadata": {
        "id": "3gbR9HrO_xV_"
      },
      "execution_count": null,
      "outputs": []
    },
    {
      "cell_type": "code",
      "source": [
        "# puedes tomar un elemento de la cadena como separador\n",
        "texto = \"Aprendiendo a programar\"\n",
        "resultado = texto.split('o')\n",
        "print(resultado)"
      ],
      "metadata": {
        "id": "2Cu76FVZAK-4"
      },
      "execution_count": null,
      "outputs": []
    },
    {
      "cell_type": "markdown",
      "source": [
        "## join()"
      ],
      "metadata": {
        "id": "PIK8wo11B8KM"
      }
    },
    {
      "cell_type": "code",
      "source": [
        "# join() funciona de manera contraria que el split, une los elementos\n",
        "a = \"Aprender\"\n",
        "b = \"python\"\n",
        "c = \"es\"\n",
        "d = \"genial\"\n",
        "e = \" \".join([a,b,c,d]) #join() funciona con listas\n",
        "\n",
        "print(e)"
      ],
      "metadata": {
        "id": "ITRA_RXrAmTW"
      },
      "execution_count": null,
      "outputs": []
    },
    {
      "cell_type": "markdown",
      "source": [
        "## find()"
      ],
      "metadata": {
        "id": "T35UpSi1CYnR"
      }
    },
    {
      "cell_type": "code",
      "source": [
        "# find() es igual que el método index()\n",
        "texto = \"Aprendiendo a programar\"\n",
        "resultado = texto.find('d')\n",
        "print(resultado)"
      ],
      "metadata": {
        "id": "44eNDP37Bp8Z"
      },
      "execution_count": null,
      "outputs": []
    },
    {
      "cell_type": "markdown",
      "source": [
        "¿Por qué tenemos find e index? 🤦"
      ],
      "metadata": {
        "id": "odk6DjVkCq7H"
      }
    },
    {
      "cell_type": "code",
      "source": [
        "# find() no te arroja error si buscar un caracter que no se encuentra en la cadena\n",
        "texto = \"Aprendiendo a programar\"\n",
        "resultado = texto.find('x')\n",
        "print(resultado)"
      ],
      "metadata": {
        "id": "RzAM0YeNCl96"
      },
      "execution_count": null,
      "outputs": []
    },
    {
      "cell_type": "markdown",
      "source": [
        "## replace()"
      ],
      "metadata": {
        "id": "d3_VzItGDPW6"
      }
    },
    {
      "cell_type": "code",
      "source": [
        "# replace toma un fragmento de texto y lo reemplza por otro\n",
        "texto = \"Ésta es la clase de programación de Sandra\"\n",
        "resultado = texto.replace('Sandra','todos') #Necesita dos argumentos\n",
        "print(resultado)"
      ],
      "metadata": {
        "id": "nxzM16xgC_BO"
      },
      "execution_count": null,
      "outputs": []
    },
    {
      "cell_type": "code",
      "source": [
        "# puedes remplazar un solo elemento\n",
        "texto = \"Ésta es la clase de programación de Sandra\"\n",
        "resultado = texto.replace('a','x') #Necesita dos argumentos\n",
        "print(resultado)"
      ],
      "metadata": {
        "id": "b81Fw0EnDr-R"
      },
      "execution_count": null,
      "outputs": []
    },
    {
      "cell_type": "markdown",
      "source": [
        "# Propiedades de las cadenas"
      ],
      "metadata": {
        "id": "srT4X19FH47X"
      }
    },
    {
      "cell_type": "markdown",
      "source": [
        "## Son inmutables"
      ],
      "metadata": {
        "id": "6zI2ZVzJIIMB"
      }
    },
    {
      "cell_type": "code",
      "source": [
        "nombre = \"Carina\"\n",
        "nombre[0] = 'K'\n",
        "print(nombre)"
      ],
      "metadata": {
        "id": "ln-ebBboILdh"
      },
      "execution_count": null,
      "outputs": []
    },
    {
      "cell_type": "markdown",
      "source": [
        "## Concatenables"
      ],
      "metadata": {
        "id": "sUrb2aFrIkUQ"
      }
    },
    {
      "cell_type": "code",
      "source": [
        "n1 = \"Mar\"\n",
        "n2 = \"bella\"\n",
        "print(n1+n2)"
      ],
      "metadata": {
        "id": "56BzGD8PIDH-"
      },
      "execution_count": null,
      "outputs": []
    },
    {
      "cell_type": "markdown",
      "source": [
        "## Multiplicable"
      ],
      "metadata": {
        "id": "KrYSmfnYJZal"
      }
    },
    {
      "cell_type": "code",
      "source": [
        "palabra = \"hello!\"\n",
        "print(palabra*5)"
      ],
      "metadata": {
        "id": "FYgr8S4BI6Ma"
      },
      "execution_count": null,
      "outputs": []
    },
    {
      "cell_type": "markdown",
      "source": [
        "## Multilineales"
      ],
      "metadata": {
        "id": "jeaX17XIJn18"
      }
    },
    {
      "cell_type": "code",
      "source": [
        "poema = \"\"\"No entres dócilmente en esa buena noche,\n",
        "Que al final del día debería la vejez arder y delirar;\n",
        "Enfurécete, enfurécete ante la muerte de la luz.\"\"\"\n",
        "\n",
        "print(poema)"
      ],
      "metadata": {
        "id": "McAnwWInJg8Z"
      },
      "execution_count": null,
      "outputs": []
    },
    {
      "cell_type": "code",
      "source": [
        "print('noche' in poema)"
      ],
      "metadata": {
        "id": "OeYONE5uKST2"
      },
      "execution_count": null,
      "outputs": []
    },
    {
      "cell_type": "markdown",
      "source": [
        "# Listas"
      ],
      "metadata": {
        "id": "lBEzravpQypa"
      }
    },
    {
      "cell_type": "markdown",
      "source": [
        "En python, una lista es una colección de elementos. Para declarar una lista, usarás ```[]``` para encerrar a los elementos que la conformarán. Cada elemento estará separado por una coma. Por ejemplo, para crear una lista con los números del 1 al 5 escribirás:\n",
        "\n",
        "```\n",
        "first_five_numbers = [1, 2, 3, 4, 5]\n",
        "``` \n",
        "\n",
        "Los elemento de una lista pueden ser cualquier tipo de dato primitivo (int, float, string o boolean) u otras listas (una lista anidada). También puedes declarar una lista vacía dejando a la lista sin elementos.\n",
        "\n",
        "```\n",
        "#Una lista de enteros\n",
        "first_five_numbers = [1, 2, 3, 4, 5]\n",
        "\n",
        "#Una lista de strings\n",
        "words = [\"hello\", \"bye\", \"thanks\", \"low\"]\n",
        "\n",
        "#lista anidada, lista de listas\n",
        "l_lists = [[1, 2, 3, 4, 5], [6, 7, 8, 9, 10]]\n",
        "\n",
        "#una lista vacia\n",
        "empty_list = []\n",
        "``` "
      ],
      "metadata": {
        "id": "URKlI3jhFd6Z"
      }
    },
    {
      "cell_type": "code",
      "source": [
        "# Creamos una lista\n",
        "mi_lista = ['a','b','c','d']\n",
        "print(type(mi_lista))"
      ],
      "metadata": {
        "id": "4EF5F2OnKie6"
      },
      "execution_count": null,
      "outputs": []
    },
    {
      "cell_type": "code",
      "source": [
        "# No importa el tipo de datos de los objetos que contienen la lista\n",
        "otra_lista = ['hello',91,10.3]\n",
        "print(type(otra_lista))"
      ],
      "metadata": {
        "id": "rzdmuPkIQ9PS"
      },
      "execution_count": null,
      "outputs": []
    },
    {
      "cell_type": "code",
      "source": [
        "# aplicamos la propiedad len()\n",
        "mi_lista = ['a','b','c','d']\n",
        "resultado = len(mi_lista)\n",
        "print(resultado)"
      ],
      "metadata": {
        "id": "KhgiETh3RK6f"
      },
      "execution_count": null,
      "outputs": []
    },
    {
      "cell_type": "code",
      "source": [
        "# concatenando y sobreescribiendo\n",
        "mi_lista2 = ['e','f','g']\n",
        "mi_lista3 = mi_lista+mi_lista2\n",
        "print(mi_lista3)\n",
        "mi_lista3[-1] = 'gamma'\n",
        "print(mi_lista3)"
      ],
      "metadata": {
        "id": "7ZUiXWP3R6Hi"
      },
      "execution_count": null,
      "outputs": []
    },
    {
      "cell_type": "markdown",
      "source": [
        "## append()"
      ],
      "metadata": {
        "id": "yCQgVpaTWMA9"
      }
    },
    {
      "cell_type": "code",
      "source": [
        "# append() agrega un elemento al final de la lista\n",
        "mi_lista3.append('h')\n",
        "print(mi_lista3)"
      ],
      "metadata": {
        "id": "OXV0EjPWVqj9"
      },
      "execution_count": null,
      "outputs": []
    },
    {
      "cell_type": "markdown",
      "source": [
        "## pop()"
      ],
      "metadata": {
        "id": "52q3xvjCWugX"
      }
    },
    {
      "cell_type": "code",
      "source": [
        "# pop() elimina elementos de la lista\n",
        "mi_lista3.pop() # si no se especifica el índice del elemento que deseas eliminar, por default elimina el último elemento.\n",
        "print(mi_lista3)"
      ],
      "metadata": {
        "id": "Bhb-a0vhWX7H"
      },
      "execution_count": null,
      "outputs": []
    },
    {
      "cell_type": "code",
      "source": [
        "mi_lista3.pop(0) # si no se especifica el índice del elemento que deseas eliminar, por default elimina el último elemento.\n",
        "print(mi_lista3)"
      ],
      "metadata": {
        "id": "IuhmtpZTW4I1"
      },
      "execution_count": null,
      "outputs": []
    },
    {
      "cell_type": "code",
      "source": [
        "# guardemos los elementos eliminados en una variable\n",
        "eliminado = mi_lista3.pop(0)\n",
        "print(mi_lista3)\n",
        "print(eliminado)"
      ],
      "metadata": {
        "id": "KgrZpSN_XQP6"
      },
      "execution_count": null,
      "outputs": []
    },
    {
      "cell_type": "markdown",
      "source": [
        "## sort()"
      ],
      "metadata": {
        "id": "bGOxllewX_yH"
      }
    },
    {
      "cell_type": "code",
      "source": [
        "# sort() ordena los elementos de una lista\n",
        "lista = ['f','x','a','m','z','b']\n",
        "print(lista)\n",
        "lista.sort() # sort() es un método que realiza una acción pero que no devuelve algún valor\n",
        "print(lista)"
      ],
      "metadata": {
        "id": "g-nRN7ghX1bK"
      },
      "execution_count": null,
      "outputs": []
    },
    {
      "cell_type": "markdown",
      "source": [
        "## reverse()"
      ],
      "metadata": {
        "id": "5cXnHNvZZi0U"
      }
    },
    {
      "cell_type": "code",
      "source": [
        "# reverse() ordena de manera contraria a sort()\n",
        "lista.reverse() # reverse() es un método que realiza una acción pero que no devuelve algún valor\n",
        "print(lista)"
      ],
      "metadata": {
        "id": "B77EVz6NYb4-"
      },
      "execution_count": null,
      "outputs": []
    },
    {
      "cell_type": "markdown",
      "source": [
        "# Diccionarios"
      ],
      "metadata": {
        "id": "-mtolFfyefHt"
      }
    },
    {
      "cell_type": "markdown",
      "source": [
        "Los diccionarios en python son un tipo de dato utilizado para almacenar pares de \"clave: valor\". Cada clave en un diccionario tendrá que ser única y deberá utilizar un tipo de dato inmutable (strings y datos numéricos). Los valores asociados a una clave pueden ser cualquier tipo de dato en python o una combinación de éstos. Un diccionario es una secuencia no ordenada de elementos.\n",
        "\n",
        "Un diccionario representa un mapeo desde las claves definidas hacía los valores. Cada clave única mapea a un valor. Como en un diccionario de inglés a español.\n",
        "\n",
        "Para definir un diccionario, usarás ```{}```. Cada par ```clave:valor``` deberá estar separado por ```,```.\n",
        "\n",
        "```\n",
        "# un diccionario que mapea nombres(claves) a numeros(valores).\n",
        "contacts = {\"jack\": 1, \"ellie\":2, \"charles\":3, \"kelly\":4} \n",
        "```\n",
        "\n",
        "Para acceder a los valores de un diccionario, usarás la clave como índice.\n",
        "\n",
        "```\n",
        "#Acceder al valor de jack en el diccionario\n",
        "print(contacts[\"jack\"])\n",
        "```\n",
        "\n",
        "Si usas una clave que no está en el diccionario recibirás un error."
      ],
      "metadata": {
        "id": "-4m9UlUJGTLd"
      }
    },
    {
      "cell_type": "code",
      "source": [
        "diccionario = {'c1':'valor1','c2':'valor2'}\n",
        "print(type(diccionario))"
      ],
      "metadata": {
        "id": "iQsUucBaZ1bW"
      },
      "execution_count": null,
      "outputs": []
    },
    {
      "cell_type": "code",
      "source": [
        "print(diccionario)"
      ],
      "metadata": {
        "id": "FpIk86MesxMD"
      },
      "execution_count": null,
      "outputs": []
    },
    {
      "cell_type": "code",
      "source": [
        "resultado = diccionario['c1']\n",
        "print(resultado)"
      ],
      "metadata": {
        "id": "ulba_wk5vtbi"
      },
      "execution_count": null,
      "outputs": []
    },
    {
      "cell_type": "code",
      "source": [
        "cliente = {'nombre':'Eliseo', 'apellido': 'Fuentas', 'edad':28}\n",
        "consulta = cliente['apellido']\n",
        "print(consulta)"
      ],
      "metadata": {
        "id": "TLP8U9yAwC6N"
      },
      "execution_count": null,
      "outputs": []
    },
    {
      "cell_type": "markdown",
      "source": [
        "Un diccionario puede contener listas y también diccionarios 😶"
      ],
      "metadata": {
        "id": "Fh5JCsWw1-Wi"
      }
    },
    {
      "cell_type": "code",
      "source": [
        "dic = {'c1':23,'c2':[10,20,30],'c3':{'s1':100,'s2':200,'s3':300}}\n",
        "print(dic['c2'][1])"
      ],
      "metadata": {
        "id": "j9JwQXoe1xFX"
      },
      "execution_count": null,
      "outputs": []
    },
    {
      "cell_type": "code",
      "source": [
        "print(dic['c3'])"
      ],
      "metadata": {
        "id": "BOCqKRL-6AFq"
      },
      "execution_count": null,
      "outputs": []
    },
    {
      "cell_type": "code",
      "source": [
        "print(dic['c3']['s2'])"
      ],
      "metadata": {
        "id": "C-ulKfwm6Wha"
      },
      "execution_count": null,
      "outputs": []
    },
    {
      "cell_type": "code",
      "source": [
        "dic = {1:'a',2:'b'}\n",
        "print(dic)"
      ],
      "metadata": {
        "id": "E5CVJ0yS6d1D"
      },
      "execution_count": null,
      "outputs": []
    },
    {
      "cell_type": "code",
      "source": [
        "dic[3]='c'"
      ],
      "metadata": {
        "id": "ow8G4BUE70GE"
      },
      "execution_count": null,
      "outputs": []
    },
    {
      "cell_type": "code",
      "source": [
        "print(dic)"
      ],
      "metadata": {
        "id": "AvqNrj-T8A1Y"
      },
      "execution_count": null,
      "outputs": []
    },
    {
      "cell_type": "markdown",
      "source": [
        "### Número de elementos en un diccionario\n",
        "Puedes usar len(d) para obtener el número de pares clave:valor que hay en un diccionario."
      ],
      "metadata": {
        "id": "LZgFcAACGq2o"
      }
    },
    {
      "cell_type": "code",
      "source": [
        "contacts = {\"jack\": 1, \"ellie\":2, \"charles\":3, \"kelly\":4} \n",
        "\n",
        "n = len(contacts)\n",
        "print(\"El diccionario contiene\", n, \"contactos\")"
      ],
      "metadata": {
        "id": "k97tzYGB-I1e"
      },
      "execution_count": null,
      "outputs": []
    },
    {
      "cell_type": "markdown",
      "source": [
        "### Eliminar un elemento de un diccionario\n",
        "\n",
        "Para elimiar un elemento de un diccionario, usarás la palabra ```del``` seguida de la referencia a la clave en el diccionario.\n",
        "\n",
        "```\n",
        "del contacts[\"jean\"]\n",
        "```"
      ],
      "metadata": {
        "id": "ygQsH2OzGtfu"
      }
    },
    {
      "cell_type": "code",
      "source": [
        "contacts = {'jack': 1, 'ellie': 2, 'charles': 3, 'kelly': 0, 'jean': 5}\n",
        "print(contacts)\n",
        "\n",
        "#eliminar a jean del diccionario de contactos\n",
        "del contacts[\"jean\"]\n",
        "print(contacts)"
      ],
      "metadata": {
        "id": "NBZgsAFWGszo"
      },
      "execution_count": null,
      "outputs": []
    },
    {
      "cell_type": "code",
      "source": [
        "# Con keys() observamos las claves del diccionario\n",
        "print(contacts.keys())\n",
        "\n",
        "# Con values() observamos los valores del diccionario\n",
        "print(contacts.values())"
      ],
      "metadata": {
        "id": "DNEPsRw5GyNc"
      },
      "execution_count": null,
      "outputs": []
    },
    {
      "cell_type": "code",
      "source": [
        "# Para obtener tanto las claves como los valores, usamos items()\n",
        "print(contacts.items())"
      ],
      "metadata": {
        "id": "kXrLAi1dQt0f"
      },
      "execution_count": null,
      "outputs": []
    },
    {
      "cell_type": "markdown",
      "source": [
        "### Probar si una clave está en un diccionario. (in)\n",
        "\n",
        "Puedes utilizar la operacion ```in``` para probar si una clave está en un diccionario.\n",
        "\n",
        "```\n",
        "#Devuele True si clave esta en d, si no devuelve False\n",
        "clave in d\n",
        "```\n",
        "\n",
        "Recuerda que tratar de acceder al valor de una clave que no está en el diccionario mediante ```d[clave]``` retornará un error. Usá ```in``` con una _condicional_ antes de acceder a elementos de diccionarios cuando no sabes si contienen la clave."
      ],
      "metadata": {
        "id": "xpKgXeZz_dBW"
      }
    },
    {
      "cell_type": "code",
      "source": [
        "contacts = {'jack': 1, 'ellie': 2, 'charles': 3, 'kelly': 0, 'jean': 5}\n",
        "print(contacts)\n",
        "\n",
        "#Retorna true si la clave ya esta en el diccionario\n",
        "name = \"ellie\"\n",
        "print(name in contacts)"
      ],
      "metadata": {
        "id": "oQJ_owJo_hmz"
      },
      "execution_count": null,
      "outputs": []
    },
    {
      "cell_type": "markdown",
      "source": [
        "# Tuples o tuplas"
      ],
      "metadata": {
        "id": "23PS856s_6Oz"
      }
    },
    {
      "cell_type": "markdown",
      "source": [
        "¿Por qué usar tuplas en lugar de listas?\n",
        "\n",
        "Las tuplas ocupan menos espacio de memoria, su procesamiento es más rápido. Y además, no pueden ser modificadas.\n"
      ],
      "metadata": {
        "id": "hdhgQabk_8sH"
      }
    },
    {
      "cell_type": "code",
      "source": [
        "mi_tuple = (1,2,3,4)\n",
        "print(type(mi_tuple))"
      ],
      "metadata": {
        "id": "BKmxZb5yQxQd"
      },
      "execution_count": null,
      "outputs": []
    },
    {
      "cell_type": "markdown",
      "source": [
        "Puedes anidar dentro de una tupla, uno o más elemento que sean tuplas en sí mismos:"
      ],
      "metadata": {
        "id": "4yv4kQAGGtSI"
      }
    },
    {
      "cell_type": "code",
      "source": [
        "mi_tuple = (1,2,(118,320),4)\n",
        "print(mi_tuple[2])"
      ],
      "metadata": {
        "id": "_GfnRxzhAanU"
      },
      "execution_count": null,
      "outputs": []
    },
    {
      "cell_type": "code",
      "source": [
        "# Puedes ver un objeto específico\n",
        "mi_tuple = (1,2,(118,320),4)\n",
        "print(mi_tuple[2][1])"
      ],
      "metadata": {
        "id": "Fg79w8JQG1Cc"
      },
      "execution_count": null,
      "outputs": []
    },
    {
      "cell_type": "code",
      "source": [
        "t = (1,2,3)\n",
        "x,y,z = t\n",
        "print(x,y,z)"
      ],
      "metadata": {
        "id": "gpA0VuxlHA-t"
      },
      "execution_count": null,
      "outputs": []
    },
    {
      "cell_type": "code",
      "source": [
        "tupla = (1,2,4,6,2,4,1,4)\n",
        "# Calculo la longitud de la tupla\n",
        "print(len(tupla))\n",
        "# Utilizo count() para saber cuántas veces se repite un elemento\n",
        "print(tupla.count(4))"
      ],
      "metadata": {
        "id": "EglZ6WUgHxul"
      },
      "execution_count": null,
      "outputs": []
    },
    {
      "cell_type": "code",
      "source": [
        ""
      ],
      "metadata": {
        "id": "MGCXsgWPHzOW"
      },
      "execution_count": null,
      "outputs": []
    }
  ]
}