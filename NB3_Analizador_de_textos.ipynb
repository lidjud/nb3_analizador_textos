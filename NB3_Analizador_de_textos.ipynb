{
  "nbformat": 4,
  "nbformat_minor": 0,
  "metadata": {
    "colab": {
      "name": "NB3. Analizador de textos.ipynb",
      "provenance": [],
      "authorship_tag": "ABX9TyO5x/QHh9Y9k6cYnRVZd6A+",
      "include_colab_link": true
    },
    "kernelspec": {
      "name": "python3",
      "display_name": "Python 3"
    },
    "language_info": {
      "name": "python"
    }
  },
  "cells": [
    {
      "cell_type": "markdown",
      "metadata": {
        "id": "view-in-github",
        "colab_type": "text"
      },
      "source": [
        "<a href=\"https://colab.research.google.com/github/lidjud/nb3_analizador_textos/blob/main/NB3_Analizador_de_textos.ipynb\" target=\"_parent\"><img src=\"https://colab.research.google.com/assets/colab-badge.svg\" alt=\"Open In Colab\"/></a>"
      ]
    },
    {
      "cell_type": "markdown",
      "source": [
        "# **Método index()**"
      ],
      "metadata": {
        "id": "2WKdmN7WWe4G"
      }
    },
    {
      "cell_type": "code",
      "execution_count": null,
      "metadata": {
        "colab": {
          "base_uri": "https://localhost:8080/"
        },
        "id": "R_3yjBLITnaB",
        "outputId": "8d2c14b9-eea2-4983-b748-52f702895b88"
      },
      "outputs": [
        {
          "output_type": "stream",
          "name": "stdout",
          "text": [
            "É\n"
          ]
        }
      ],
      "source": [
        "# Conocer qué caracter hay en un índice\n",
        "mi_texto = \"Ésta es una prueba\"\n",
        "resultado = mi_texto[0]\n",
        "print(resultado)"
      ]
    },
    {
      "cell_type": "code",
      "source": [
        "# Hagamos una prueba con los números negativos\n",
        "mi_texto = \"Ésta es una prueba\"\n",
        "resultado = mi_texto[-4]\n",
        "print(resultado)"
      ],
      "metadata": {
        "id": "Sn8TYhF2XCG_"
      },
      "execution_count": null,
      "outputs": []
    },
    {
      "cell_type": "code",
      "source": [
        "# Conocer índice de un caracter\n",
        "mi_texto = \"Ésta es una prueba\"\n",
        "resultado = mi_texto.index('n')\n",
        "# Prueba con diferentes valores: 'x', 'prueba', 'P'\n",
        "print(resultado)"
      ],
      "metadata": {
        "colab": {
          "base_uri": "https://localhost:8080/"
        },
        "id": "kyu2XDy9XlqK",
        "outputId": "62b460c7-b46e-4137-ed39-d6974a2adf33"
      },
      "execution_count": null,
      "outputs": [
        {
          "output_type": "stream",
          "name": "stdout",
          "text": [
            "9\n"
          ]
        }
      ]
    },
    {
      "cell_type": "code",
      "source": [
        "# ¿Qué sucede con las letras que se repiten varias veces en mi_texto\n",
        "mi_texto = \"Ésta es una prueba\"\n",
        "#resultado = mi_texto.index('a')\n",
        "print(resultado)"
      ],
      "metadata": {
        "id": "Qw0GrYaUhBb9"
      },
      "execution_count": null,
      "outputs": []
    },
    {
      "cell_type": "code",
      "source": [
        "# Si agregamos el parámetro de inicio al método index...\n",
        "resultado = mi_texto.index('a', 5)\n",
        "print(resultado)"
      ],
      "metadata": {
        "colab": {
          "base_uri": "https://localhost:8080/"
        },
        "id": "zVHZ3l0_2fqr",
        "outputId": "976a38e2-0302-47bd-f8ca-0b6a15e1a16a"
      },
      "execution_count": null,
      "outputs": [
        {
          "output_type": "stream",
          "name": "stdout",
          "text": [
            "10\n"
          ]
        }
      ]
    },
    {
      "cell_type": "code",
      "source": [
        "# Si agregamos el parámetro de fin al método index...\n",
        "resultado = mi_texto.index('a', 5, 10)\n",
        "print(resultado)"
      ],
      "metadata": {
        "id": "yDKIyNeL2nP8"
      },
      "execution_count": null,
      "outputs": []
    },
    {
      "cell_type": "code",
      "source": [
        "# Método re-index\n",
        "mi_texto = \"Ésta es una prueba\"\n",
        "resultado = mi_texto.rindex('a')\n",
        "print(resultado)"
      ],
      "metadata": {
        "colab": {
          "base_uri": "https://localhost:8080/"
        },
        "id": "j7G8jma-ZqPd",
        "outputId": "9de86214-6398-45d0-c7b9-ef3f77663993"
      },
      "execution_count": null,
      "outputs": [
        {
          "output_type": "stream",
          "name": "stdout",
          "text": [
            "17\n"
          ]
        }
      ]
    },
    {
      "cell_type": "markdown",
      "source": [
        "# Slicing 🍕"
      ],
      "metadata": {
        "id": "MnzZ7sZa1N_m"
      }
    },
    {
      "cell_type": "code",
      "source": [
        "# En este ejemplo, extraemos un caracter de la cadena de texto\n",
        "texto = \"ABCDEFGHIJKLM\"\n",
        "fragmento = texto[2]\n",
        "print(fragmento)"
      ],
      "metadata": {
        "colab": {
          "base_uri": "https://localhost:8080/"
        },
        "id": "0F3RN2m0hAP1",
        "outputId": "317114d6-1d8a-4cac-8e5d-52f62ff75244"
      },
      "execution_count": null,
      "outputs": [
        {
          "output_type": "stream",
          "name": "stdout",
          "text": [
            "C\n"
          ]
        }
      ]
    },
    {
      "cell_type": "code",
      "source": [
        "# Podemos extraer los caracteres que se encuentran entre el índice de inicio y el final\n",
        "texto = \"ABCDEFGHIJKLM\"\n",
        "fragmento = texto[2:5] \n",
        "print(fragmento)\n",
        "\n",
        "# Si en el slicing defines el inicio+:, sin especificar el índice final, ¿qué sucede?\n",
        "texto = \"ABCDEFGHIJKLM\"\n",
        "fragmento = texto[2:] \n",
        "print(fragmento)"
      ],
      "metadata": {
        "colab": {
          "base_uri": "https://localhost:8080/"
        },
        "id": "L8VKjyr11Ary",
        "outputId": "49c3f11e-c938-48c6-c34b-81be4facb587"
      },
      "execution_count": null,
      "outputs": [
        {
          "output_type": "stream",
          "name": "stdout",
          "text": [
            "CDE\n",
            "CDEFGHIJKLM\n"
          ]
        }
      ]
    },
    {
      "cell_type": "code",
      "source": [
        "# Si en el slicing defines :+final, sin especificar el índice inicial, ¿qué sucede?\n",
        "texto = \"ABCDEFGHIJKLM\"\n",
        "fragmento = texto[:5] \n",
        "print(fragmento)"
      ],
      "metadata": {
        "colab": {
          "base_uri": "https://localhost:8080/"
        },
        "id": "ir3_8NHf1uus",
        "outputId": "6028a18e-68a8-4272-aa01-945e0963bc2c"
      },
      "execution_count": null,
      "outputs": [
        {
          "output_type": "stream",
          "name": "stdout",
          "text": [
            "ABCDE\n"
          ]
        }
      ]
    },
    {
      "cell_type": "code",
      "source": [
        "#Ahora vamos a incluir un tercer factor para extraer un caracter cada tanto (tercer factor)\n",
        "texto = \"ABCDEFGHIJKLM\"\n",
        "fragmento = texto[2:10:2] \n",
        "print(fragmento)\n",
        "fragmento = texto[::2] \n",
        "print(fragmento)"
      ],
      "metadata": {
        "colab": {
          "base_uri": "https://localhost:8080/"
        },
        "id": "4EYMBC0e3PFO",
        "outputId": "edcc24c8-bac2-4adc-e2c1-0ccacaf28c30"
      },
      "execution_count": null,
      "outputs": [
        {
          "output_type": "stream",
          "name": "stdout",
          "text": [
            "CEGI\n",
            "ACEGIKM\n"
          ]
        }
      ]
    },
    {
      "cell_type": "code",
      "source": [
        "texto = \"ABCDEFGHIJKLM\"\n",
        "fragmento = texto[::-1] \n",
        "print(fragmento)"
      ],
      "metadata": {
        "colab": {
          "base_uri": "https://localhost:8080/"
        },
        "id": "BcEyXTSd4L5C",
        "outputId": "842aa161-8473-4fe3-d3d3-e949e0e24c1c"
      },
      "execution_count": null,
      "outputs": [
        {
          "output_type": "stream",
          "name": "stdout",
          "text": [
            "MLKJIHGFEDCBA\n"
          ]
        }
      ]
    },
    {
      "cell_type": "markdown",
      "source": [
        "# ➕ métodos"
      ],
      "metadata": {
        "id": "pqP99xpL-cxp"
      }
    },
    {
      "cell_type": "code",
      "source": [
        "# Creo una cadena\n",
        "texto = \"Aprendiendo a programar\"\n",
        "resultado = texto\n",
        "print(resultado)"
      ],
      "metadata": {
        "colab": {
          "base_uri": "https://localhost:8080/"
        },
        "id": "v4rbt5XT5Aal",
        "outputId": "2a6465ce-5c97-4c19-9f78-683011fc6e9a"
      },
      "execution_count": null,
      "outputs": [
        {
          "output_type": "stream",
          "name": "stdout",
          "text": [
            "Aprendiendo a programar\n"
          ]
        }
      ]
    },
    {
      "cell_type": "markdown",
      "source": [
        "## upper()"
      ],
      "metadata": {
        "id": "vvByt2C_Bwcn"
      }
    },
    {
      "cell_type": "code",
      "source": [
        "# upper() transforma los caracteres en mayúsculas\n",
        "texto = \"Aprendiendo a programar\"\n",
        "resultado = texto.upper()\n",
        "print(resultado)"
      ],
      "metadata": {
        "colab": {
          "base_uri": "https://localhost:8080/"
        },
        "id": "hTJKboQM-pDS",
        "outputId": "ebdccb03-5583-406b-b740-93b35b3a3f7d"
      },
      "execution_count": null,
      "outputs": [
        {
          "output_type": "stream",
          "name": "stdout",
          "text": [
            "APRENDIENDO A PROGRAMAR\n"
          ]
        }
      ]
    },
    {
      "cell_type": "markdown",
      "source": [
        "## lower()"
      ],
      "metadata": {
        "id": "V1Z_Ls00B1sn"
      }
    },
    {
      "cell_type": "code",
      "source": [
        "# lower() transforma los caracteres en minúsculas\n",
        "texto = \"Aprendiendo a programar\"\n",
        "resultado = texto.lower()\n",
        "print(resultado)"
      ],
      "metadata": {
        "colab": {
          "base_uri": "https://localhost:8080/"
        },
        "id": "mJ1u6dek_Re0",
        "outputId": "d118d0a7-f446-4331-8660-6eca8d852dac"
      },
      "execution_count": null,
      "outputs": [
        {
          "output_type": "stream",
          "name": "stdout",
          "text": [
            "aprendiendo a programar\n"
          ]
        }
      ]
    },
    {
      "cell_type": "markdown",
      "source": [
        "## split()"
      ],
      "metadata": {
        "id": "euEmwDSZB49y"
      }
    },
    {
      "cell_type": "code",
      "source": [
        "# split separa cada uno de los elementos y los guarda en una lista\n",
        "# Las listas se guardan dentro de [] \n",
        "texto = \"Aprendiendo a programar\"\n",
        "resultado = texto.split()\n",
        "print(resultado)"
      ],
      "metadata": {
        "colab": {
          "base_uri": "https://localhost:8080/"
        },
        "id": "3gbR9HrO_xV_",
        "outputId": "96436299-ac6d-4530-db0a-301f71a89ac6"
      },
      "execution_count": null,
      "outputs": [
        {
          "output_type": "stream",
          "name": "stdout",
          "text": [
            "['Aprendiendo', 'a', 'programar']\n"
          ]
        }
      ]
    },
    {
      "cell_type": "code",
      "source": [
        "# puedes tomar un elemento de la cadena como separador\n",
        "texto = \"Aprendiendo a programar\"\n",
        "resultado = texto.split('o')\n",
        "print(resultado)"
      ],
      "metadata": {
        "colab": {
          "base_uri": "https://localhost:8080/"
        },
        "id": "2Cu76FVZAK-4",
        "outputId": "a1d2c1a2-bae9-41ab-aed8-2a508fadecd3"
      },
      "execution_count": null,
      "outputs": [
        {
          "output_type": "stream",
          "name": "stdout",
          "text": [
            "['Aprendiend', ' a pr', 'gramar']\n"
          ]
        }
      ]
    },
    {
      "cell_type": "markdown",
      "source": [
        "## join()"
      ],
      "metadata": {
        "id": "PIK8wo11B8KM"
      }
    },
    {
      "cell_type": "code",
      "source": [
        "# join() funciona de manera contraria que el split, une los elementos\n",
        "a = \"Aprender\"\n",
        "b = \"python\"\n",
        "c = \"es\"\n",
        "d = \"genial\"\n",
        "e = \" \".join([a,b,c,d]) #join() funciona con listas\n",
        "\n",
        "print(e)"
      ],
      "metadata": {
        "colab": {
          "base_uri": "https://localhost:8080/"
        },
        "id": "ITRA_RXrAmTW",
        "outputId": "e106a838-72f7-4b38-c789-c4aad3ec313f"
      },
      "execution_count": null,
      "outputs": [
        {
          "output_type": "stream",
          "name": "stdout",
          "text": [
            "Aprender python es genial\n"
          ]
        }
      ]
    },
    {
      "cell_type": "markdown",
      "source": [
        "## find()"
      ],
      "metadata": {
        "id": "T35UpSi1CYnR"
      }
    },
    {
      "cell_type": "code",
      "source": [
        "# find() es igual que el método index()\n",
        "texto = \"Aprendiendo a programar\"\n",
        "resultado = texto.find('d')\n",
        "print(resultado)"
      ],
      "metadata": {
        "colab": {
          "base_uri": "https://localhost:8080/"
        },
        "id": "44eNDP37Bp8Z",
        "outputId": "0a2cba86-c60a-487c-cc65-a977402f7cd5"
      },
      "execution_count": null,
      "outputs": [
        {
          "output_type": "stream",
          "name": "stdout",
          "text": [
            "5\n"
          ]
        }
      ]
    },
    {
      "cell_type": "markdown",
      "source": [
        "¿Por qué tenemos find e index? 🤦"
      ],
      "metadata": {
        "id": "odk6DjVkCq7H"
      }
    },
    {
      "cell_type": "code",
      "source": [
        "# find() no te arroja error si buscar un caracter que no se encuentra en la cadena\n",
        "texto = \"Aprendiendo a programar\"\n",
        "resultado = texto.find('x')\n",
        "print(resultado)"
      ],
      "metadata": {
        "colab": {
          "base_uri": "https://localhost:8080/"
        },
        "id": "RzAM0YeNCl96",
        "outputId": "ccec1986-cab8-48b0-8d1f-e408bca42eff"
      },
      "execution_count": null,
      "outputs": [
        {
          "output_type": "stream",
          "name": "stdout",
          "text": [
            "-1\n"
          ]
        }
      ]
    },
    {
      "cell_type": "markdown",
      "source": [
        "## replace()"
      ],
      "metadata": {
        "id": "d3_VzItGDPW6"
      }
    },
    {
      "cell_type": "code",
      "source": [
        "# replace toma un fragmento de texto y lo reemplza por otro\n",
        "texto = \"Ésta es la clase de programación de Sandra\"\n",
        "resultado = texto.replace('Sandra','todos') #Necesita dos argumentos\n",
        "print(resultado)"
      ],
      "metadata": {
        "colab": {
          "base_uri": "https://localhost:8080/"
        },
        "id": "nxzM16xgC_BO",
        "outputId": "e11b48a4-5f26-44d7-8b56-603669e66e56"
      },
      "execution_count": null,
      "outputs": [
        {
          "output_type": "stream",
          "name": "stdout",
          "text": [
            "Ésta es la clase de programación de todos\n"
          ]
        }
      ]
    },
    {
      "cell_type": "code",
      "source": [
        "# puedes remplazar un solo elemento\n",
        "texto = \"Ésta es la clase de programación de Sandra\"\n",
        "resultado = texto.replace('a','x') #Necesita dos argumentos\n",
        "print(resultado)"
      ],
      "metadata": {
        "colab": {
          "base_uri": "https://localhost:8080/"
        },
        "id": "b81Fw0EnDr-R",
        "outputId": "adae358e-e7e5-403d-8ab5-954455b979da"
      },
      "execution_count": null,
      "outputs": [
        {
          "output_type": "stream",
          "name": "stdout",
          "text": [
            "Éstx es lx clxse de progrxmxción de Sxndrx\n"
          ]
        }
      ]
    },
    {
      "cell_type": "markdown",
      "source": [
        "# Propiedades de las cadenas"
      ],
      "metadata": {
        "id": "srT4X19FH47X"
      }
    },
    {
      "cell_type": "markdown",
      "source": [
        "## Son inmutables"
      ],
      "metadata": {
        "id": "6zI2ZVzJIIMB"
      }
    },
    {
      "cell_type": "code",
      "source": [
        "nombre = \"Carina\"\n",
        "nombre[0] = 'K'\n",
        "print(nombre)"
      ],
      "metadata": {
        "id": "ln-ebBboILdh"
      },
      "execution_count": null,
      "outputs": []
    },
    {
      "cell_type": "markdown",
      "source": [
        "## Concatenables"
      ],
      "metadata": {
        "id": "sUrb2aFrIkUQ"
      }
    },
    {
      "cell_type": "code",
      "source": [
        "n1 = \"Mar\"\n",
        "n2 = \"bella\"\n",
        "print(n1+n2)"
      ],
      "metadata": {
        "colab": {
          "base_uri": "https://localhost:8080/"
        },
        "id": "56BzGD8PIDH-",
        "outputId": "06ee5b49-fd71-40ab-eaa7-2525c4da0f2c"
      },
      "execution_count": null,
      "outputs": [
        {
          "output_type": "stream",
          "name": "stdout",
          "text": [
            "Marbella\n"
          ]
        }
      ]
    },
    {
      "cell_type": "markdown",
      "source": [
        "## Multiplicable"
      ],
      "metadata": {
        "id": "KrYSmfnYJZal"
      }
    },
    {
      "cell_type": "code",
      "source": [
        "palabra = \"hello!\"\n",
        "print(palabra*5)"
      ],
      "metadata": {
        "colab": {
          "base_uri": "https://localhost:8080/"
        },
        "id": "FYgr8S4BI6Ma",
        "outputId": "5d02c666-ae46-4e84-f4f6-56c249eca827"
      },
      "execution_count": null,
      "outputs": [
        {
          "output_type": "stream",
          "name": "stdout",
          "text": [
            "hello!hello!hello!hello!hello!\n"
          ]
        }
      ]
    },
    {
      "cell_type": "markdown",
      "source": [
        "## Multilineales"
      ],
      "metadata": {
        "id": "jeaX17XIJn18"
      }
    },
    {
      "cell_type": "code",
      "source": [
        "poema = \"\"\"No entres dócilmente en esa buena noche,\n",
        "Que al final del día debería la vejez arder y delirar;\n",
        "Enfurécete, enfurécete ante la muerte de la luz.\"\"\"\n",
        "\n",
        "print(poema)"
      ],
      "metadata": {
        "colab": {
          "base_uri": "https://localhost:8080/"
        },
        "id": "McAnwWInJg8Z",
        "outputId": "c792a993-b24b-4a85-ceb8-9a91431cfd68"
      },
      "execution_count": null,
      "outputs": [
        {
          "output_type": "stream",
          "name": "stdout",
          "text": [
            "No entres dócilmente en esa buena noche,\n",
            "Que al final del día debería la vejez arder y delirar;\n",
            "Enfurécete, enfurécete ante la muerte de la luz.\n"
          ]
        }
      ]
    },
    {
      "cell_type": "code",
      "source": [
        "print('noche' in poema)"
      ],
      "metadata": {
        "colab": {
          "base_uri": "https://localhost:8080/"
        },
        "id": "OeYONE5uKST2",
        "outputId": "60ee1eb3-6f11-45d1-b8d6-b321d72229e4"
      },
      "execution_count": null,
      "outputs": [
        {
          "output_type": "stream",
          "name": "stdout",
          "text": [
            "True\n"
          ]
        }
      ]
    },
    {
      "cell_type": "markdown",
      "source": [
        "# Listas"
      ],
      "metadata": {
        "id": "lBEzravpQypa"
      }
    },
    {
      "cell_type": "markdown",
      "source": [
        "En python, una lista es una colección de elementos. Para declarar una lista, usarás ```[]``` para encerrar a los elementos que la conformarán. Cada elemento estará separado por una coma. Por ejemplo, para crear una lista con los números del 1 al 5 escribirás:\n",
        "\n",
        "```\n",
        "first_five_numbers = [1, 2, 3, 4, 5]\n",
        "``` \n",
        "\n",
        "Los elemento de una lista pueden ser cualquier tipo de dato primitivo (int, float, string o boolean) u otras listas (una lista anidada). También puedes declarar una lista vacía dejando a la lista sin elementos.\n",
        "\n",
        "```\n",
        "#Una lista de enteros\n",
        "first_five_numbers = [1, 2, 3, 4, 5]\n",
        "\n",
        "#Una lista de strings\n",
        "words = [\"hello\", \"bye\", \"thanks\", \"low\"]\n",
        "\n",
        "#lista anidada, lista de listas\n",
        "l_lists = [[1, 2, 3, 4, 5], [6, 7, 8, 9, 10]]\n",
        "\n",
        "#una lista vacia\n",
        "empty_list = []\n",
        "``` "
      ],
      "metadata": {
        "id": "URKlI3jhFd6Z"
      }
    },
    {
      "cell_type": "code",
      "source": [
        "# Creamos una lista\n",
        "mi_lista = ['a','b','c','d']\n",
        "print(type(mi_lista))"
      ],
      "metadata": {
        "colab": {
          "base_uri": "https://localhost:8080/"
        },
        "id": "4EF5F2OnKie6",
        "outputId": "436ab025-adb2-4d63-9918-61da69e0e4ae"
      },
      "execution_count": null,
      "outputs": [
        {
          "output_type": "stream",
          "name": "stdout",
          "text": [
            "<class 'list'>\n"
          ]
        }
      ]
    },
    {
      "cell_type": "code",
      "source": [
        "# No importa el tipo de datos de los objetos que contienen la lista\n",
        "otra_lista = ['hello',91,10.3]\n",
        "print(type(otra_lista))"
      ],
      "metadata": {
        "colab": {
          "base_uri": "https://localhost:8080/"
        },
        "id": "rzdmuPkIQ9PS",
        "outputId": "cf58e255-b3d6-41aa-c296-68429f79c242"
      },
      "execution_count": null,
      "outputs": [
        {
          "output_type": "stream",
          "name": "stdout",
          "text": [
            "<class 'list'>\n"
          ]
        }
      ]
    },
    {
      "cell_type": "code",
      "source": [
        "# aplicamos la propiedad len()\n",
        "mi_lista = ['a','b','c','d']\n",
        "resultado = len(mi_lista)\n",
        "print(resultado)"
      ],
      "metadata": {
        "colab": {
          "base_uri": "https://localhost:8080/"
        },
        "id": "KhgiETh3RK6f",
        "outputId": "20d34f83-ff69-4f00-cb38-2c3d36b1899c"
      },
      "execution_count": null,
      "outputs": [
        {
          "output_type": "stream",
          "name": "stdout",
          "text": [
            "4\n"
          ]
        }
      ]
    },
    {
      "cell_type": "code",
      "source": [
        "# concatenando y sobreescribiendo\n",
        "mi_lista2 = ['e','f','g']\n",
        "mi_lista3 = mi_lista+mi_lista2\n",
        "print(mi_lista3)\n",
        "mi_lista3[-1] = 'gamma'\n",
        "print(mi_lista3)"
      ],
      "metadata": {
        "colab": {
          "base_uri": "https://localhost:8080/"
        },
        "id": "7ZUiXWP3R6Hi",
        "outputId": "922bbe37-dd86-42c3-b890-bd2ed488932d"
      },
      "execution_count": null,
      "outputs": [
        {
          "output_type": "stream",
          "name": "stdout",
          "text": [
            "['a', 'b', 'c', 'd', 'e', 'f', 'g']\n",
            "['a', 'b', 'c', 'd', 'e', 'f', 'gamma']\n"
          ]
        }
      ]
    },
    {
      "cell_type": "markdown",
      "source": [
        "## append()"
      ],
      "metadata": {
        "id": "yCQgVpaTWMA9"
      }
    },
    {
      "cell_type": "code",
      "source": [
        "# append() agrega un elemento al final de la lista\n",
        "mi_lista3.append('h')\n",
        "print(mi_lista3)"
      ],
      "metadata": {
        "colab": {
          "base_uri": "https://localhost:8080/"
        },
        "id": "OXV0EjPWVqj9",
        "outputId": "42ff5849-dbcd-4a2e-b8b1-33dd135450d4"
      },
      "execution_count": null,
      "outputs": [
        {
          "output_type": "stream",
          "name": "stdout",
          "text": [
            "['a', 'b', 'c', 'd', 'e', 'f', 'gamma', 'h']\n"
          ]
        }
      ]
    },
    {
      "cell_type": "markdown",
      "source": [
        "## pop()"
      ],
      "metadata": {
        "id": "52q3xvjCWugX"
      }
    },
    {
      "cell_type": "code",
      "source": [
        "# pop() elimina elementos de la lista\n",
        "mi_lista3.pop() # si no se especifica el índice del elemento que deseas eliminar, por default elimina el último elemento.\n",
        "print(mi_lista3)"
      ],
      "metadata": {
        "colab": {
          "base_uri": "https://localhost:8080/"
        },
        "id": "Bhb-a0vhWX7H",
        "outputId": "5ff19d6f-b5cd-4779-9356-c5971f683a1b"
      },
      "execution_count": null,
      "outputs": [
        {
          "output_type": "stream",
          "name": "stdout",
          "text": [
            "['a', 'b', 'c', 'd', 'e', 'f', 'gamma']\n"
          ]
        }
      ]
    },
    {
      "cell_type": "code",
      "source": [
        "mi_lista3.pop(0) # si no se especifica el índice del elemento que deseas eliminar, por default elimina el último elemento.\n",
        "print(mi_lista3)"
      ],
      "metadata": {
        "colab": {
          "base_uri": "https://localhost:8080/"
        },
        "id": "IuhmtpZTW4I1",
        "outputId": "87f7ef00-5946-42d3-e2d2-69b337a782d3"
      },
      "execution_count": null,
      "outputs": [
        {
          "output_type": "stream",
          "name": "stdout",
          "text": [
            "['b', 'c', 'd', 'e', 'f', 'gamma']\n"
          ]
        }
      ]
    },
    {
      "cell_type": "code",
      "source": [
        "# guardemos los elementos eliminados en una variable\n",
        "eliminado = mi_lista3.pop(0)\n",
        "print(mi_lista3)\n",
        "print(eliminado)"
      ],
      "metadata": {
        "colab": {
          "base_uri": "https://localhost:8080/"
        },
        "id": "KgrZpSN_XQP6",
        "outputId": "2d750818-8f9f-4b51-d171-1f8f309e6a9e"
      },
      "execution_count": null,
      "outputs": [
        {
          "output_type": "stream",
          "name": "stdout",
          "text": [
            "['c', 'd', 'e', 'f', 'gamma']\n",
            "b\n"
          ]
        }
      ]
    },
    {
      "cell_type": "markdown",
      "source": [
        "## sort()"
      ],
      "metadata": {
        "id": "bGOxllewX_yH"
      }
    },
    {
      "cell_type": "code",
      "source": [
        "# sort() ordena los elementos de una lista\n",
        "lista = ['f','x','a','m','z','b']\n",
        "print(lista)\n",
        "lista.sort() # sort() es un método que realiza una acción pero que no devuelve algún valor\n",
        "print(lista)"
      ],
      "metadata": {
        "colab": {
          "base_uri": "https://localhost:8080/"
        },
        "id": "g-nRN7ghX1bK",
        "outputId": "3cb1682a-241b-457d-8885-e208f24d380c"
      },
      "execution_count": null,
      "outputs": [
        {
          "output_type": "stream",
          "name": "stdout",
          "text": [
            "['f', 'x', 'a', 'm', 'z', 'b']\n",
            "['a', 'b', 'f', 'm', 'x', 'z']\n"
          ]
        }
      ]
    },
    {
      "cell_type": "markdown",
      "source": [
        "## reverse()"
      ],
      "metadata": {
        "id": "5cXnHNvZZi0U"
      }
    },
    {
      "cell_type": "code",
      "source": [
        "# reverse() ordena de manera contraria a sort()\n",
        "lista.reverse() # reverse() es un método que realiza una acción pero que no devuelve algún valor\n",
        "print(lista)"
      ],
      "metadata": {
        "colab": {
          "base_uri": "https://localhost:8080/"
        },
        "id": "B77EVz6NYb4-",
        "outputId": "3c1edc63-c980-4954-a371-f3f6b0a8fa5e"
      },
      "execution_count": null,
      "outputs": [
        {
          "output_type": "stream",
          "name": "stdout",
          "text": [
            "['z', 'x', 'm', 'f', 'b', 'a']\n"
          ]
        }
      ]
    },
    {
      "cell_type": "markdown",
      "source": [
        "# Diccionarios"
      ],
      "metadata": {
        "id": "-mtolFfyefHt"
      }
    },
    {
      "cell_type": "markdown",
      "source": [
        "Los diccionarios en python son un tipo de dato utilizado para almacenar pares de \"clave: valor\". Cada clave en un diccionario tendrá que ser única y deberá utilizar un tipo de dato inmutable (strings y datos numéricos). Los valores asociados a una clave pueden ser cualquier tipo de dato en python o una combinación de éstos. Un diccionario es una secuencia no ordenada de elementos.\n",
        "\n",
        "Un diccionario representa un mapeo desde las claves definidas hacía los valores. Cada clave única mapea a un valor. Como en un diccionario de inglés a español.\n",
        "\n",
        "Para definir un diccionario, usarás ```{}```. Cada par ```clave:valor``` deberá estar separado por ```,```.\n",
        "\n",
        "```\n",
        "# un diccionario que mapea nombres(claves) a numeros(valores).\n",
        "contacts = {\"jack\": 1, \"ellie\":2, \"charles\":3, \"kelly\":4} \n",
        "```\n",
        "\n",
        "Para acceder a los valores de un diccionario, usarás la clave como índice.\n",
        "\n",
        "```\n",
        "#Acceder al valor de jack en el diccionario\n",
        "print(contacts[\"jack\"])\n",
        "```\n",
        "\n",
        "Si usas una clave que no está en el diccionario recibirás un error."
      ],
      "metadata": {
        "id": "-4m9UlUJGTLd"
      }
    },
    {
      "cell_type": "code",
      "source": [
        "diccionario = {'c1':'valor1','c2':'valor2'}\n",
        "print(type(diccionario))"
      ],
      "metadata": {
        "colab": {
          "base_uri": "https://localhost:8080/"
        },
        "id": "iQsUucBaZ1bW",
        "outputId": "9a471847-4f42-4df4-925c-611a7dc0e511"
      },
      "execution_count": null,
      "outputs": [
        {
          "output_type": "stream",
          "name": "stdout",
          "text": [
            "<class 'dict'>\n"
          ]
        }
      ]
    },
    {
      "cell_type": "code",
      "source": [
        "print(diccionario)"
      ],
      "metadata": {
        "colab": {
          "base_uri": "https://localhost:8080/"
        },
        "id": "FpIk86MesxMD",
        "outputId": "a73b49f6-fbb7-4c28-c58e-8de9e01a8d6e"
      },
      "execution_count": null,
      "outputs": [
        {
          "output_type": "stream",
          "name": "stdout",
          "text": [
            "{'c1': 'valor1', 'c2': 'valor2'}\n"
          ]
        }
      ]
    },
    {
      "cell_type": "code",
      "source": [
        "resultado = diccionario['c1']\n",
        "print(resultado)"
      ],
      "metadata": {
        "colab": {
          "base_uri": "https://localhost:8080/"
        },
        "id": "ulba_wk5vtbi",
        "outputId": "6d138f43-f1cd-4efd-94e5-2af3e7425035"
      },
      "execution_count": null,
      "outputs": [
        {
          "output_type": "stream",
          "name": "stdout",
          "text": [
            "valor1\n"
          ]
        }
      ]
    },
    {
      "cell_type": "code",
      "source": [
        "cliente = {'nombre':'Eliseo', 'apellido': 'Fuentas', 'edad':28}\n",
        "consulta = cliente['apellido']\n",
        "print(consulta)"
      ],
      "metadata": {
        "colab": {
          "base_uri": "https://localhost:8080/"
        },
        "id": "TLP8U9yAwC6N",
        "outputId": "11bc1e30-4ba4-4935-cf7c-1fb2f4227f7b"
      },
      "execution_count": null,
      "outputs": [
        {
          "output_type": "stream",
          "name": "stdout",
          "text": [
            "Fuentas\n"
          ]
        }
      ]
    },
    {
      "cell_type": "markdown",
      "source": [
        "Un diccionario puede contener listas y también diccionarios 😶"
      ],
      "metadata": {
        "id": "Fh5JCsWw1-Wi"
      }
    },
    {
      "cell_type": "code",
      "source": [
        "dic = {'c1':23,'c2':[10,20,30],'c3':{'s1':100,'s2':200,'s3':300}}\n",
        "print(dic['c2'][1])"
      ],
      "metadata": {
        "colab": {
          "base_uri": "https://localhost:8080/"
        },
        "id": "j9JwQXoe1xFX",
        "outputId": "f3ef9398-8b8f-47e1-b09c-1c25e8a4aab6"
      },
      "execution_count": null,
      "outputs": [
        {
          "output_type": "stream",
          "name": "stdout",
          "text": [
            "20\n"
          ]
        }
      ]
    },
    {
      "cell_type": "code",
      "source": [
        "print(dic['c3'])"
      ],
      "metadata": {
        "colab": {
          "base_uri": "https://localhost:8080/"
        },
        "id": "BOCqKRL-6AFq",
        "outputId": "a20240b0-f854-4b1f-a9b0-48c19adc3e87"
      },
      "execution_count": null,
      "outputs": [
        {
          "output_type": "stream",
          "name": "stdout",
          "text": [
            "{'s1': 100, 's2': 200, 's3': 300}\n"
          ]
        }
      ]
    },
    {
      "cell_type": "code",
      "source": [
        "print(dic['c3']['s2'])"
      ],
      "metadata": {
        "colab": {
          "base_uri": "https://localhost:8080/"
        },
        "id": "C-ulKfwm6Wha",
        "outputId": "baffc5ab-005a-40c0-986d-1cc213ca44e1"
      },
      "execution_count": null,
      "outputs": [
        {
          "output_type": "stream",
          "name": "stdout",
          "text": [
            "200\n"
          ]
        }
      ]
    },
    {
      "cell_type": "code",
      "source": [
        "dic = {1:'a',2:'b'}\n",
        "print(dic)"
      ],
      "metadata": {
        "colab": {
          "base_uri": "https://localhost:8080/"
        },
        "id": "E5CVJ0yS6d1D",
        "outputId": "9dd0149e-1509-438a-b245-7a9c8958dcab"
      },
      "execution_count": null,
      "outputs": [
        {
          "output_type": "stream",
          "name": "stdout",
          "text": [
            "{1: 'a', 2: 'b'}\n"
          ]
        }
      ]
    },
    {
      "cell_type": "code",
      "source": [
        "dic[3]='c'"
      ],
      "metadata": {
        "id": "ow8G4BUE70GE"
      },
      "execution_count": null,
      "outputs": []
    },
    {
      "cell_type": "code",
      "source": [
        "print(dic)"
      ],
      "metadata": {
        "colab": {
          "base_uri": "https://localhost:8080/"
        },
        "id": "AvqNrj-T8A1Y",
        "outputId": "65d98a34-4dfa-4b9b-faa5-ced692d28187"
      },
      "execution_count": null,
      "outputs": [
        {
          "output_type": "stream",
          "name": "stdout",
          "text": [
            "{1: 'a', 2: 'b', 3: 'c'}\n"
          ]
        }
      ]
    },
    {
      "cell_type": "markdown",
      "source": [
        "### Número de elementos en un diccionario\n",
        "Puedes usar len(d) para obtener el número de pares clave:valor que hay en un diccionario."
      ],
      "metadata": {
        "id": "LZgFcAACGq2o"
      }
    },
    {
      "cell_type": "code",
      "source": [
        "contacts = {\"jack\": 1, \"ellie\":2, \"charles\":3, \"kelly\":4} \n",
        "\n",
        "n = len(contacts)\n",
        "print(\"El diccionario contiene\", n, \"contactos\")"
      ],
      "metadata": {
        "colab": {
          "base_uri": "https://localhost:8080/"
        },
        "id": "k97tzYGB-I1e",
        "outputId": "a2b094c8-e77f-4a9b-a755-a1c0584808b2"
      },
      "execution_count": null,
      "outputs": [
        {
          "output_type": "stream",
          "name": "stdout",
          "text": [
            "El diccionario contiene 4 contactos\n"
          ]
        }
      ]
    },
    {
      "cell_type": "markdown",
      "source": [
        "### Eliminar un elemento de un diccionario\n",
        "\n",
        "Para elimiar un elemento de un diccionario, usarás la palabra ```del``` seguida de la referencia a la clave en el diccionario.\n",
        "\n",
        "```\n",
        "del contacts[\"jean\"]\n",
        "```"
      ],
      "metadata": {
        "id": "ygQsH2OzGtfu"
      }
    },
    {
      "cell_type": "code",
      "source": [
        "contacts = {'jack': 1, 'ellie': 2, 'charles': 3, 'kelly': 0, 'jean': 5}\n",
        "print(contacts)\n",
        "\n",
        "#eliminar a jean del diccionario de contactos\n",
        "del contacts[\"jean\"]\n",
        "print(contacts)"
      ],
      "metadata": {
        "colab": {
          "base_uri": "https://localhost:8080/"
        },
        "id": "NBZgsAFWGszo",
        "outputId": "16907da2-ec71-4708-fff0-b3355f77e797"
      },
      "execution_count": null,
      "outputs": [
        {
          "output_type": "stream",
          "name": "stdout",
          "text": [
            "{'jack': 1, 'ellie': 2, 'charles': 3, 'kelly': 0, 'jean': 5}\n",
            "{'jack': 1, 'ellie': 2, 'charles': 3, 'kelly': 0}\n"
          ]
        }
      ]
    },
    {
      "cell_type": "code",
      "source": [
        "# Con keys() observamos las claves del diccionario\n",
        "print(contacts.keys())\n",
        "\n",
        "# Con values() observamos los valores del diccionario\n",
        "print(contacts.values())"
      ],
      "metadata": {
        "colab": {
          "base_uri": "https://localhost:8080/"
        },
        "id": "DNEPsRw5GyNc",
        "outputId": "892f82ca-3079-4c9e-ef29-512ad5702556"
      },
      "execution_count": null,
      "outputs": [
        {
          "output_type": "stream",
          "name": "stdout",
          "text": [
            "dict_keys(['jack', 'ellie', 'charles', 'kelly'])\n",
            "dict_values([1, 2, 3, 0])\n"
          ]
        }
      ]
    },
    {
      "cell_type": "code",
      "source": [
        "# Para obtener tanto las claves como los valores, usamos items()\n",
        "print(contacts.items())"
      ],
      "metadata": {
        "colab": {
          "base_uri": "https://localhost:8080/"
        },
        "id": "kXrLAi1dQt0f",
        "outputId": "3fbd1d95-ba85-4e7f-8229-7ed704f0934b"
      },
      "execution_count": null,
      "outputs": [
        {
          "output_type": "stream",
          "name": "stdout",
          "text": [
            "dict_items([('jack', 1), ('ellie', 2), ('charles', 3), ('kelly', 0)])\n"
          ]
        }
      ]
    },
    {
      "cell_type": "markdown",
      "source": [
        "### Probar si una clave está en un diccionario. (in)\n",
        "\n",
        "Puedes utilizar la operacion ```in``` para probar si una clave está en un diccionario.\n",
        "\n",
        "```\n",
        "#Devuele True si clave esta en d, si no devuelve False\n",
        "clave in d\n",
        "```\n",
        "\n",
        "Recuerda que tratar de acceder al valor de una clave que no está en el diccionario mediante ```d[clave]``` retornará un error. Usá ```in``` con una _condicional_ antes de acceder a elementos de diccionarios cuando no sabes si contienen la clave."
      ],
      "metadata": {
        "id": "xpKgXeZz_dBW"
      }
    },
    {
      "cell_type": "code",
      "source": [
        "contacts = {'jack': 1, 'ellie': 2, 'charles': 3, 'kelly': 0, 'jean': 5}\n",
        "print(contacts)\n",
        "\n",
        "#Retorna true si la clave ya esta en el diccionario\n",
        "name = \"ellie\"\n",
        "print(name in contacts)"
      ],
      "metadata": {
        "colab": {
          "base_uri": "https://localhost:8080/"
        },
        "id": "oQJ_owJo_hmz",
        "outputId": "568416ed-6838-4c32-9880-275b6964db27"
      },
      "execution_count": null,
      "outputs": [
        {
          "output_type": "stream",
          "name": "stdout",
          "text": [
            "{'jack': 1, 'ellie': 2, 'charles': 3, 'kelly': 0, 'jean': 5}\n",
            "True\n"
          ]
        }
      ]
    },
    {
      "cell_type": "markdown",
      "source": [
        "# Tuples o tuplas"
      ],
      "metadata": {
        "id": "23PS856s_6Oz"
      }
    },
    {
      "cell_type": "markdown",
      "source": [
        "¿Por qué usar tuplas en lugar de listas?\n",
        "\n",
        "Las tuplas ocupan menos espacio de memoria, su procesamiento es más rápido. Y además, no pueden ser modificadas.\n"
      ],
      "metadata": {
        "id": "hdhgQabk_8sH"
      }
    },
    {
      "cell_type": "code",
      "source": [
        "mi_tuple = (1,2,3,4)\n",
        "print(type(mi_tuple))"
      ],
      "metadata": {
        "colab": {
          "base_uri": "https://localhost:8080/"
        },
        "id": "BKmxZb5yQxQd",
        "outputId": "6604aa17-ffdf-4135-8368-85acef84e74d"
      },
      "execution_count": null,
      "outputs": [
        {
          "output_type": "stream",
          "name": "stdout",
          "text": [
            "<class 'tuple'>\n"
          ]
        }
      ]
    },
    {
      "cell_type": "markdown",
      "source": [
        "Puedes anidar dentro de una tupla, uno o más elemento que sean tuplas en sí mismos:"
      ],
      "metadata": {
        "id": "4yv4kQAGGtSI"
      }
    },
    {
      "cell_type": "code",
      "source": [
        "mi_tuple = (1,2,(118,320),4)\n",
        "print(mi_tuple[2])"
      ],
      "metadata": {
        "colab": {
          "base_uri": "https://localhost:8080/"
        },
        "id": "_GfnRxzhAanU",
        "outputId": "0a5f0350-e06b-48ca-d8d9-a6ffcb101ea8"
      },
      "execution_count": null,
      "outputs": [
        {
          "output_type": "stream",
          "name": "stdout",
          "text": [
            "(118, 320)\n"
          ]
        }
      ]
    },
    {
      "cell_type": "code",
      "source": [
        "# Puedes ver un objeto específico\n",
        "mi_tuple = (1,2,(118,320),4)\n",
        "print(mi_tuple[2][1])"
      ],
      "metadata": {
        "colab": {
          "base_uri": "https://localhost:8080/"
        },
        "id": "Fg79w8JQG1Cc",
        "outputId": "c992a6fc-4d64-4289-ff18-24dc5378b075"
      },
      "execution_count": null,
      "outputs": [
        {
          "output_type": "stream",
          "name": "stdout",
          "text": [
            "320\n"
          ]
        }
      ]
    },
    {
      "cell_type": "code",
      "source": [
        "t = (1,2,3)\n",
        "x,y,z = t\n",
        "print(x,y,z)"
      ],
      "metadata": {
        "colab": {
          "base_uri": "https://localhost:8080/"
        },
        "id": "gpA0VuxlHA-t",
        "outputId": "9bcef183-3b96-4724-f6cb-1c36e8f78f79"
      },
      "execution_count": null,
      "outputs": [
        {
          "output_type": "stream",
          "name": "stdout",
          "text": [
            "1 2 3\n"
          ]
        }
      ]
    },
    {
      "cell_type": "code",
      "source": [
        "tupla = (1,2,4,6,2,4,1,4)\n",
        "# Calculo la longitud de la tupla\n",
        "print(len(tupla))\n",
        "# Utilizo count() para saber cuántas veces se repite un elemento\n",
        "print(tupla.count(4))"
      ],
      "metadata": {
        "colab": {
          "base_uri": "https://localhost:8080/"
        },
        "id": "EglZ6WUgHxul",
        "outputId": "5670f78b-7ad7-41d6-ce86-8987b73a502e"
      },
      "execution_count": null,
      "outputs": [
        {
          "output_type": "stream",
          "name": "stdout",
          "text": [
            "8\n",
            "3\n"
          ]
        }
      ]
    },
    {
      "cell_type": "code",
      "source": [
        ""
      ],
      "metadata": {
        "id": "MGCXsgWPHzOW"
      },
      "execution_count": null,
      "outputs": []
    }
  ]
}